{
 "cells": [
  {
   "cell_type": "code",
   "execution_count": 1,
   "id": "ae2a21aa",
   "metadata": {},
   "outputs": [
    {
     "ename": "SyntaxError",
     "evalue": "invalid syntax (2497053111.py, line 1)",
     "output_type": "error",
     "traceback": [
      "\u001b[1;36m  File \u001b[1;32m\"C:\\Users\\DELL\\AppData\\Local\\Temp\\ipykernel_5480\\2497053111.py\"\u001b[1;36m, line \u001b[1;32m1\u001b[0m\n\u001b[1;33m    print(hello world)\u001b[0m\n\u001b[1;37m                ^\u001b[0m\n\u001b[1;31mSyntaxError\u001b[0m\u001b[1;31m:\u001b[0m invalid syntax\n"
     ]
    }
   ],
   "source": []
  },
  {
   "cell_type": "code",
   "execution_count": 2,
   "id": "aa7768ef",
   "metadata": {},
   "outputs": [
    {
     "name": "stdout",
     "output_type": "stream",
     "text": [
      "hello world\n"
     ]
    }
   ],
   "source": []
  },
  {
   "cell_type": "code",
   "execution_count": 3,
   "id": "528710fa",
   "metadata": {},
   "outputs": [],
   "source": [
    "\n"
   ]
  },
  {
   "cell_type": "code",
   "execution_count": 9,
   "id": "34ebd2de",
   "metadata": {},
   "outputs": [
    {
     "ename": "SyntaxError",
     "evalue": "invalid syntax (1993960859.py, line 14)",
     "output_type": "error",
     "traceback": [
      "\u001b[1;36m  File \u001b[1;32m\"C:\\Users\\DELL\\AppData\\Local\\Temp\\ipykernel_5480\\1993960859.py\"\u001b[1;36m, line \u001b[1;32m14\u001b[0m\n\u001b[1;33m    def change(text=\"type\",src=\"English\",dest=\"Hindi\"):\u001b[0m\n\u001b[1;37m    ^\u001b[0m\n\u001b[1;31mSyntaxError\u001b[0m\u001b[1;31m:\u001b[0m invalid syntax\n"
     ]
    }
   ],
   "source": [
    "from tkinter import *\n",
    "from tkinter import ttk\n",
    "root =Tk()\n",
    "from googletrans import Translator, LANGUAGES\n",
    "\n",
    "def data():\n",
    "    s=comb_sor.get()\n",
    "    d=comb_dest.get()\n",
    "    masg = Sor_txt.get(1.0,END)\n",
    "    textget = change(text=masg,src=s,dest=d)\n",
    "    dest_txt.delete(1.0,END)\n",
    "    dest_txt.insert(END,textget\n",
    "                    \n",
    "def change(text=\"type\",src=\"English\",dest=\"Hindi\"):\n",
    "    text1=text\n",
    "    src1=src\n",
    "    dest1=dest\n",
    "    trans= Translator()\n",
    "    trans1 = trans.translate(text,src=src1,dest=dest1)\n",
    "    return trans1.text\n",
    "\n",
    "\n",
    "root.title(\"Translator\")\n",
    "root.geometry(\"500x800\")\n",
    "root.config(bg='#D7BBF5')\n",
    "lab_txt=Label(root,text=\"Translator\",font=(\"Time New Roman\",40,\"bold\"),bg=\"#D7BBF5\")\n",
    "lab_txt.place(x=100,y=40,height=50,width=300)\n",
    "\n",
    "frame = Frame(root).pack(side=BOTTOM)\n",
    "\n",
    "lab_txt=Label(root,text=\"Source text\",font=(\"Time New Roman\",20,\"bold\"),fg=\"Black\",bg=\"#D7BBF5\")\n",
    "lab_txt.place(x=100,y=100,height=20,width=300)\n",
    "\n",
    "Sor_txt = Text(frame,font=(\"Time New Roman\",10,\"bold\"),wrap=WORD)\n",
    "Sor_txt.place(x=10,y=130,height=150,width=480)\n",
    "\n",
    "\n",
    "list_text=list(LANGUAGES.values())\n",
    "\n",
    "comb_sor = ttk.Combobox(frame,value=list_text)\n",
    "comb_sor.place(x=10,y=300,height=40,width=150)\n",
    "comb_sor.set(\"english\")\n",
    "button_change = Button(frame,text=\"Translate\",relief=RAISED,command=data)\n",
    "button_change.place(x=170,y=300,height=40,width=150)\n",
    "\n",
    "comb_dest = ttk.Combobox(frame,value=list_text)\n",
    "comb_dest.place(x=330,y=300,height=40,width=150)\n",
    "comb_dest.set(\"english\")\n",
    "\n",
    "lab_txt=Label(root,text=\"Destination text\",font=(\"Time New Roman\",20,\"bold\"),fg=\"Black\",bg=\"#D7BBF5\")\n",
    "lab_txt.place(x=100,y=360,height=20,width=300)\n",
    "\n",
    "dest_txt = Text(frame,font=(\"Time New Roman\",10,\"bold\"),wrap=WORD)\n",
    "dest_txt.place(x=10,y=400,height=150,width=480)\n",
    "root.mainloop()\n"
   ]
  },
  {
   "cell_type": "code",
   "execution_count": null,
   "id": "8e5e857c",
   "metadata": {},
   "outputs": [],
   "source": []
  },
  {
   "cell_type": "code",
   "execution_count": null,
   "id": "dfb6f7c3",
   "metadata": {},
   "outputs": [],
   "source": []
  },
  {
   "cell_type": "code",
   "execution_count": null,
   "id": "801c093f",
   "metadata": {},
   "outputs": [],
   "source": [
    "def change(text=\"type\",src=\"English\",dest=\"Hindi\"):\n",
    "    text1=text\n",
    "    src1=src\n",
    "    dest1=dest\n",
    "    trans= Translator()\n",
    "    trans1 = trans.translate(text,src=src1,dest=dest1)\n",
    "    return trans1.text"
   ]
  },
  {
   "cell_type": "code",
   "execution_count": null,
   "id": "7aac5220",
   "metadata": {},
   "outputs": [],
   "source": [
    "pip install google-cloud-translate"
   ]
  },
  {
   "cell_type": "code",
   "execution_count": 6,
   "id": "bc5c10a9",
   "metadata": {},
   "outputs": [
    {
     "name": "stdout",
     "output_type": "stream",
     "text": [
      "Collecting googletrans\n",
      "  Using cached googletrans-3.0.0-py3-none-any.whl\n",
      "Collecting httpx==0.13.3\n",
      "  Using cached httpx-0.13.3-py3-none-any.whl (55 kB)\n",
      "Collecting idna==2.*\n",
      "  Using cached idna-2.10-py2.py3-none-any.whl (58 kB)\n",
      "Collecting rfc3986<2,>=1.3\n",
      "  Using cached rfc3986-1.5.0-py2.py3-none-any.whl (31 kB)\n",
      "Requirement already satisfied: sniffio in c:\\users\\dell\\anaconda3\\new folder (2)\\lib\\site-packages (from httpx==0.13.3->googletrans) (1.2.0)\n",
      "Collecting hstspreload\n",
      "  Downloading hstspreload-2023.1.1-py3-none-any.whl (1.5 MB)\n",
      "     ---------------------------------------- 1.5/1.5 MB 285.8 kB/s eta 0:00:00\n",
      "Requirement already satisfied: certifi in c:\\users\\dell\\anaconda3\\new folder (2)\\lib\\site-packages (from httpx==0.13.3->googletrans) (2022.9.14)\n",
      "Collecting chardet==3.*\n",
      "  Using cached chardet-3.0.4-py2.py3-none-any.whl (133 kB)\n",
      "Collecting httpcore==0.9.*\n",
      "  Using cached httpcore-0.9.1-py3-none-any.whl (42 kB)\n",
      "Collecting h11<0.10,>=0.8\n",
      "  Using cached h11-0.9.0-py2.py3-none-any.whl (53 kB)\n",
      "Collecting h2==3.*\n",
      "  Using cached h2-3.2.0-py2.py3-none-any.whl (65 kB)\n",
      "Collecting hyperframe<6,>=5.2.0\n",
      "  Using cached hyperframe-5.2.0-py2.py3-none-any.whl (12 kB)\n",
      "Collecting hpack<4,>=3.0\n",
      "  Using cached hpack-3.0.0-py2.py3-none-any.whl (38 kB)\n",
      "Installing collected packages: rfc3986, hyperframe, hpack, h11, chardet, idna, hstspreload, h2, httpcore, httpx, googletrans\n",
      "  Attempting uninstall: chardet\n",
      "    Found existing installation: chardet 4.0.0\n",
      "    Uninstalling chardet-4.0.0:\n",
      "      Successfully uninstalled chardet-4.0.0\n",
      "  Attempting uninstall: idna\n",
      "    Found existing installation: idna 3.3\n",
      "    Uninstalling idna-3.3:\n",
      "      Successfully uninstalled idna-3.3\n",
      "Successfully installed chardet-3.0.4 googletrans-3.0.0 h11-0.9.0 h2-3.2.0 hpack-3.0.0 hstspreload-2023.1.1 httpcore-0.9.1 httpx-0.13.3 hyperframe-5.2.0 idna-2.10 rfc3986-1.5.0\n",
      "Note: you may need to restart the kernel to use updated packages.\n"
     ]
    },
    {
     "name": "stderr",
     "output_type": "stream",
     "text": [
      "ERROR: pip's dependency resolver does not currently take into account all the packages that are installed. This behaviour is the source of the following dependency conflicts.\n",
      "spyder 5.2.2 requires pyqt5<5.13, which is not installed.\n",
      "spyder 5.2.2 requires pyqtwebengine<5.13, which is not installed.\n",
      "anaconda-project 0.11.1 requires ruamel-yaml, which is not installed.\n",
      "conda-repo-cli 1.0.20 requires clyent==1.2.1, but you have clyent 1.2.2 which is incompatible.\n",
      "conda-repo-cli 1.0.20 requires nbformat==5.4.0, but you have nbformat 5.5.0 which is incompatible.\n"
     ]
    }
   ],
   "source": [
    "pip install googletrans"
   ]
  },
  {
   "cell_type": "code",
   "execution_count": 7,
   "id": "7ab6b9bb",
   "metadata": {},
   "outputs": [
    {
     "name": "stdout",
     "output_type": "stream",
     "text": [
      "Collecting googletrans==4.0.0-rc1\n",
      "  Downloading googletrans-4.0.0rc1.tar.gz (20 kB)\n",
      "  Preparing metadata (setup.py): started\n",
      "  Preparing metadata (setup.py): finished with status 'done'\n",
      "Requirement already satisfied: httpx==0.13.3 in c:\\users\\dell\\anaconda3\\new folder (2)\\lib\\site-packages (from googletrans==4.0.0-rc1) (0.13.3)\n",
      "Requirement already satisfied: httpcore==0.9.* in c:\\users\\dell\\anaconda3\\new folder (2)\\lib\\site-packages (from httpx==0.13.3->googletrans==4.0.0-rc1) (0.9.1)\n",
      "Requirement already satisfied: certifi in c:\\users\\dell\\anaconda3\\new folder (2)\\lib\\site-packages (from httpx==0.13.3->googletrans==4.0.0-rc1) (2022.9.14)\n",
      "Requirement already satisfied: chardet==3.* in c:\\users\\dell\\anaconda3\\new folder (2)\\lib\\site-packages (from httpx==0.13.3->googletrans==4.0.0-rc1) (3.0.4)\n",
      "Requirement already satisfied: rfc3986<2,>=1.3 in c:\\users\\dell\\anaconda3\\new folder (2)\\lib\\site-packages (from httpx==0.13.3->googletrans==4.0.0-rc1) (1.5.0)\n",
      "Requirement already satisfied: idna==2.* in c:\\users\\dell\\anaconda3\\new folder (2)\\lib\\site-packages (from httpx==0.13.3->googletrans==4.0.0-rc1) (2.10)\n",
      "Requirement already satisfied: hstspreload in c:\\users\\dell\\anaconda3\\new folder (2)\\lib\\site-packages (from httpx==0.13.3->googletrans==4.0.0-rc1) (2023.1.1)\n",
      "Requirement already satisfied: sniffio in c:\\users\\dell\\anaconda3\\new folder (2)\\lib\\site-packages (from httpx==0.13.3->googletrans==4.0.0-rc1) (1.2.0)\n",
      "Requirement already satisfied: h2==3.* in c:\\users\\dell\\anaconda3\\new folder (2)\\lib\\site-packages (from httpcore==0.9.*->httpx==0.13.3->googletrans==4.0.0-rc1) (3.2.0)\n",
      "Requirement already satisfied: h11<0.10,>=0.8 in c:\\users\\dell\\anaconda3\\new folder (2)\\lib\\site-packages (from httpcore==0.9.*->httpx==0.13.3->googletrans==4.0.0-rc1) (0.9.0)\n",
      "Requirement already satisfied: hyperframe<6,>=5.2.0 in c:\\users\\dell\\anaconda3\\new folder (2)\\lib\\site-packages (from h2==3.*->httpcore==0.9.*->httpx==0.13.3->googletrans==4.0.0-rc1) (5.2.0)\n",
      "Requirement already satisfied: hpack<4,>=3.0 in c:\\users\\dell\\anaconda3\\new folder (2)\\lib\\site-packages (from h2==3.*->httpcore==0.9.*->httpx==0.13.3->googletrans==4.0.0-rc1) (3.0.0)\n",
      "Building wheels for collected packages: googletrans\n",
      "  Building wheel for googletrans (setup.py): started\n",
      "  Building wheel for googletrans (setup.py): finished with status 'done'\n",
      "  Created wheel for googletrans: filename=googletrans-4.0.0rc1-py3-none-any.whl size=17411 sha256=8fac0d3d902145f243b5b66442b53acdc59784b79b4eec13cc8dde9438cace83\n",
      "  Stored in directory: c:\\users\\dell\\appdata\\local\\pip\\cache\\wheels\\60\\b3\\27\\d8aff3e2d5c2d0d97a117cdf0d5f13cd121e2c2b5fb49b55a0\n",
      "Successfully built googletrans\n",
      "Installing collected packages: googletrans\n",
      "  Attempting uninstall: googletrans\n",
      "    Found existing installation: googletrans 3.0.0\n",
      "    Uninstalling googletrans-3.0.0:\n",
      "      Successfully uninstalled googletrans-3.0.0\n",
      "Successfully installed googletrans-4.0.0rc1\n",
      "Note: you may need to restart the kernel to use updated packages.\n"
     ]
    }
   ],
   "source": [
    "pip install googletrans==4.0.0-rc1"
   ]
  },
  {
   "cell_type": "code",
   "execution_count": null,
   "id": "a6a9c20d",
   "metadata": {},
   "outputs": [],
   "source": []
  },
  {
   "cell_type": "code",
   "execution_count": null,
   "id": "574ebbb7",
   "metadata": {},
   "outputs": [],
   "source": []
  },
  {
   "cell_type": "code",
   "execution_count": null,
   "id": "6dbf9736",
   "metadata": {},
   "outputs": [],
   "source": []
  },
  {
   "cell_type": "code",
   "execution_count": null,
   "id": "1839909d",
   "metadata": {},
   "outputs": [],
   "source": []
  }
 ],
 "metadata": {
  "kernelspec": {
   "display_name": "Python 3 (ipykernel)",
   "language": "python",
   "name": "python3"
  },
  "language_info": {
   "codemirror_mode": {
    "name": "ipython",
    "version": 3
   },
   "file_extension": ".py",
   "mimetype": "text/x-python",
   "name": "python",
   "nbconvert_exporter": "python",
   "pygments_lexer": "ipython3",
   "version": "3.9.13"
  }
 },
 "nbformat": 4,
 "nbformat_minor": 5
}
